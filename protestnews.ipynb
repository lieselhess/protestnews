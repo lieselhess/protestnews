{
 "cells": [
  {
   "cell_type": "code",
   "execution_count": 12,
   "metadata": {
    "collapsed": false
   },
   "outputs": [
    {
     "name": "stdout",
     "output_type": "stream",
     "text": [
      "['CNN - Breaking News, Latest News and Videos']\n",
      "['The New York Times - Breaking News, World News & Multimedia']\n",
      "['Google']\n"
     ]
    }
   ],
   "source": [
    "import re\n",
    "import urllib\n",
    "\n",
    "\n",
    "\n",
    "\n",
    "urls = [\"http://www.twitter.com\", \"http://www.instagram.com\", \"http://www.facebook.com\"]\n",
    "\n",
    "count = 0\n",
    "regex = '<title>(.+?)</title>'\n",
    "pattern = re.compile(regex)\n",
    "\n",
    "#Couldn't that ^ be rewritten as:\n",
    "#pattern = re.compile('<title>(.+?)</title>')\n",
    "#Why define 'regex' as a separate var; it isn't used anywhere else\n",
    "\n",
    "\n",
    "while count < len(urls):\n",
    "\n",
    "    htmlfile = urllib.urlopen(urls[count])\n",
    "    htmltext = htmlfile.read()\n",
    "    titles = re.findall(pattern,htmltext)\n",
    "\n",
    "    print titles\n",
    "   \n",
    "    count += 1\n",
    "#ToDo: Consider recursive function structure\n",
    "#Check for valid links; access link targets; function recursively runs\n",
    "#Execute until no valid link targets are found\n",
    "#Creates a web spider\n"
   ]
  },
  {
   "cell_type": "markdown",
   "metadata": {},
   "source": [
    "## Data Scraper / News Aggregator\n",
    "\n"
   ]
  }
 ],
 "metadata": {
  "anaconda-cloud": {},
  "kernelspec": {
   "display_name": "Python [default]",
   "language": "python",
   "name": "python2"
  },
  "language_info": {
   "codemirror_mode": {
    "name": "ipython",
    "version": 2
   },
   "file_extension": ".py",
   "mimetype": "text/x-python",
   "name": "python",
   "nbconvert_exporter": "python",
   "pygments_lexer": "ipython2",
   "version": "2.7.12"
  }
 },
 "nbformat": 4,
 "nbformat_minor": 1
}
